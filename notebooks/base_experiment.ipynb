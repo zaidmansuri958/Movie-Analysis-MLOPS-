{
 "cells": [
  {
   "cell_type": "code",
   "execution_count": 40,
   "id": "13ddba88",
   "metadata": {},
   "outputs": [],
   "source": [
    "import mlflow\n",
    "import pandas as pd\n",
    "import mlflow.sklearn\n",
    "from sklearn.feature_extraction.text import CountVectorizer\n",
    "from sklearn.model_selection import train_test_split\n",
    "from sklearn.linear_model import LogisticRegression\n",
    "from sklearn.metrics import accuracy_score,precision_score,recall_score,f1_score\n",
    "import pandas as pd\n",
    "import re\n",
    "import string \n",
    "from nltk.corpus import stopwords \n",
    "from nltk.stem import WordNetLemmatizer\n",
    "import numpy as np\n",
    "import os"
   ]
  },
  {
   "cell_type": "code",
   "execution_count": 3,
   "id": "9ec58a66",
   "metadata": {},
   "outputs": [
    {
     "data": {
      "text/html": [
       "<div>\n",
       "<style scoped>\n",
       "    .dataframe tbody tr th:only-of-type {\n",
       "        vertical-align: middle;\n",
       "    }\n",
       "\n",
       "    .dataframe tbody tr th {\n",
       "        vertical-align: top;\n",
       "    }\n",
       "\n",
       "    .dataframe thead th {\n",
       "        text-align: right;\n",
       "    }\n",
       "</style>\n",
       "<table border=\"1\" class=\"dataframe\">\n",
       "  <thead>\n",
       "    <tr style=\"text-align: right;\">\n",
       "      <th></th>\n",
       "      <th>review</th>\n",
       "      <th>sentiment</th>\n",
       "    </tr>\n",
       "  </thead>\n",
       "  <tbody>\n",
       "    <tr>\n",
       "      <th>566</th>\n",
       "      <td>Having read another review, I thought this mov...</td>\n",
       "      <td>negative</td>\n",
       "    </tr>\n",
       "    <tr>\n",
       "      <th>667</th>\n",
       "      <td>I saw the premier of this movie during the 200...</td>\n",
       "      <td>positive</td>\n",
       "    </tr>\n",
       "    <tr>\n",
       "      <th>2</th>\n",
       "      <td>The `plot' of this film contains a few holes y...</td>\n",
       "      <td>negative</td>\n",
       "    </tr>\n",
       "    <tr>\n",
       "      <th>302</th>\n",
       "      <td>DOCTEUR PETIOT, starring Michel Serrault, is a...</td>\n",
       "      <td>positive</td>\n",
       "    </tr>\n",
       "    <tr>\n",
       "      <th>679</th>\n",
       "      <td>This show was so exhausting to watch and there...</td>\n",
       "      <td>positive</td>\n",
       "    </tr>\n",
       "  </tbody>\n",
       "</table>\n",
       "</div>"
      ],
      "text/plain": [
       "                                                review sentiment\n",
       "566  Having read another review, I thought this mov...  negative\n",
       "667  I saw the premier of this movie during the 200...  positive\n",
       "2    The `plot' of this film contains a few holes y...  negative\n",
       "302  DOCTEUR PETIOT, starring Michel Serrault, is a...  positive\n",
       "679  This show was so exhausting to watch and there...  positive"
      ]
     },
     "execution_count": 3,
     "metadata": {},
     "output_type": "execute_result"
    }
   ],
   "source": [
    "df=pd.read_csv(\"IMDB.csv\")\n",
    "df=df.sample(500)\n",
    "df.to_csv('data.csv',index=False)\n",
    "df.head()\n"
   ]
  },
  {
   "cell_type": "code",
   "execution_count": 10,
   "id": "540ca08c",
   "metadata": {},
   "outputs": [
    {
     "name": "stderr",
     "output_type": "stream",
     "text": [
      "<>:23: SyntaxWarning: invalid escape sequence '\\s'\n",
      "<>:23: SyntaxWarning: invalid escape sequence '\\s'\n",
      "C:\\Users\\ZAID\\AppData\\Local\\Temp\\ipykernel_18848\\3671403585.py:23: SyntaxWarning: invalid escape sequence '\\s'\n",
      "  text=re.sub('\\s+',' ',text).strip()\n"
     ]
    }
   ],
   "source": [
    "def lemmatization(text):\n",
    "    lemmatizer=WordNetLemmatizer()\n",
    "    text=text.split()\n",
    "    text=[lemmatizer.lemmatize(word) for word in text]\n",
    "    return \" \".join(text)\n",
    "\n",
    "def remove_stop_words(text):\n",
    "    stop_words=set(stopwords.words(\"english\"))\n",
    "    text=[word for word in str(text).split() if word not in stop_words]\n",
    "    return \" \".join(text)\n",
    "\n",
    "def removing_numbers(text):\n",
    "    text=''.join([char for char in text if not char.isdigit()])\n",
    "    return text \n",
    "\n",
    "def lower_case(text):\n",
    "    text=text.split()\n",
    "    text=[word.lower() for word in text]\n",
    "    return \" \".join(text)\n",
    "\n",
    "def removing_punctuations(text):\n",
    "    text=re.sub('[%s]' % re.escape(string.punctuation),' ',text)\n",
    "    text=re.sub('\\s+',' ',text).strip()\n",
    "    return text \n",
    "\n",
    "def removing_urls(text):\n",
    "    url_pattern=re.compile(r'https?://S+|www\\.\\S+')\n",
    "    return url_pattern.sub(r'',text)\n",
    "\n",
    "def normalize_text(df):\n",
    "    try:\n",
    "        df['review']=df['review'].apply(lower_case)\n",
    "        df['review']=df['review'].apply(remove_stop_words)\n",
    "        df['review']=df['review'].apply(removing_numbers)\n",
    "        df['review']=df['review'].apply(removing_punctuations)\n",
    "        df['review']=df['review'].apply(removing_urls)\n",
    "        df['review']=df['review'].apply(lemmatization)\n",
    "        return df \n",
    "    \n",
    "    except Exception as e:\n",
    "        print(f\"Error during text normalization {e}\")\n",
    "        raise"
   ]
  },
  {
   "cell_type": "code",
   "execution_count": 11,
   "id": "05d1b1db",
   "metadata": {},
   "outputs": [
    {
     "data": {
      "text/html": [
       "<div>\n",
       "<style scoped>\n",
       "    .dataframe tbody tr th:only-of-type {\n",
       "        vertical-align: middle;\n",
       "    }\n",
       "\n",
       "    .dataframe tbody tr th {\n",
       "        vertical-align: top;\n",
       "    }\n",
       "\n",
       "    .dataframe thead th {\n",
       "        text-align: right;\n",
       "    }\n",
       "</style>\n",
       "<table border=\"1\" class=\"dataframe\">\n",
       "  <thead>\n",
       "    <tr style=\"text-align: right;\">\n",
       "      <th></th>\n",
       "      <th>review</th>\n",
       "      <th>sentiment</th>\n",
       "    </tr>\n",
       "  </thead>\n",
       "  <tbody>\n",
       "    <tr>\n",
       "      <th>566</th>\n",
       "      <td>read another review thought movie would actual...</td>\n",
       "      <td>negative</td>\n",
       "    </tr>\n",
       "    <tr>\n",
       "      <th>667</th>\n",
       "      <td>saw premier movie phoenix film festival impres...</td>\n",
       "      <td>positive</td>\n",
       "    </tr>\n",
       "    <tr>\n",
       "      <th>2</th>\n",
       "      <td>plot film contains hole could drive massive tr...</td>\n",
       "      <td>negative</td>\n",
       "    </tr>\n",
       "    <tr>\n",
       "      <th>302</th>\n",
       "      <td>docteur petiot starring michel serrault brutal...</td>\n",
       "      <td>positive</td>\n",
       "    </tr>\n",
       "    <tr>\n",
       "      <th>679</th>\n",
       "      <td>show exhausting watch there s two number drown...</td>\n",
       "      <td>positive</td>\n",
       "    </tr>\n",
       "  </tbody>\n",
       "</table>\n",
       "</div>"
      ],
      "text/plain": [
       "                                                review sentiment\n",
       "566  read another review thought movie would actual...  negative\n",
       "667  saw premier movie phoenix film festival impres...  positive\n",
       "2    plot film contains hole could drive massive tr...  negative\n",
       "302  docteur petiot starring michel serrault brutal...  positive\n",
       "679  show exhausting watch there s two number drown...  positive"
      ]
     },
     "execution_count": 11,
     "metadata": {},
     "output_type": "execute_result"
    }
   ],
   "source": [
    "df=normalize_text(df)\n",
    "df.head()"
   ]
  },
  {
   "cell_type": "code",
   "execution_count": 12,
   "id": "4bbfa9c6",
   "metadata": {},
   "outputs": [
    {
     "data": {
      "text/plain": [
       "sentiment\n",
       "negative    265\n",
       "positive    235\n",
       "Name: count, dtype: int64"
      ]
     },
     "execution_count": 12,
     "metadata": {},
     "output_type": "execute_result"
    }
   ],
   "source": [
    "df['sentiment'].value_counts()"
   ]
  },
  {
   "cell_type": "code",
   "execution_count": 13,
   "id": "9832f38c",
   "metadata": {},
   "outputs": [],
   "source": [
    "x=df['sentiment'].isin(['positive','negative'])\n",
    "df=df[x]"
   ]
  },
  {
   "cell_type": "code",
   "execution_count": 14,
   "id": "e6e10bfe",
   "metadata": {},
   "outputs": [
    {
     "data": {
      "text/html": [
       "<div>\n",
       "<style scoped>\n",
       "    .dataframe tbody tr th:only-of-type {\n",
       "        vertical-align: middle;\n",
       "    }\n",
       "\n",
       "    .dataframe tbody tr th {\n",
       "        vertical-align: top;\n",
       "    }\n",
       "\n",
       "    .dataframe thead th {\n",
       "        text-align: right;\n",
       "    }\n",
       "</style>\n",
       "<table border=\"1\" class=\"dataframe\">\n",
       "  <thead>\n",
       "    <tr style=\"text-align: right;\">\n",
       "      <th></th>\n",
       "      <th>review</th>\n",
       "      <th>sentiment</th>\n",
       "    </tr>\n",
       "  </thead>\n",
       "  <tbody>\n",
       "    <tr>\n",
       "      <th>566</th>\n",
       "      <td>read another review thought movie would actual...</td>\n",
       "      <td>0</td>\n",
       "    </tr>\n",
       "    <tr>\n",
       "      <th>667</th>\n",
       "      <td>saw premier movie phoenix film festival impres...</td>\n",
       "      <td>1</td>\n",
       "    </tr>\n",
       "    <tr>\n",
       "      <th>2</th>\n",
       "      <td>plot film contains hole could drive massive tr...</td>\n",
       "      <td>0</td>\n",
       "    </tr>\n",
       "    <tr>\n",
       "      <th>302</th>\n",
       "      <td>docteur petiot starring michel serrault brutal...</td>\n",
       "      <td>1</td>\n",
       "    </tr>\n",
       "    <tr>\n",
       "      <th>679</th>\n",
       "      <td>show exhausting watch there s two number drown...</td>\n",
       "      <td>1</td>\n",
       "    </tr>\n",
       "  </tbody>\n",
       "</table>\n",
       "</div>"
      ],
      "text/plain": [
       "                                                review  sentiment\n",
       "566  read another review thought movie would actual...          0\n",
       "667  saw premier movie phoenix film festival impres...          1\n",
       "2    plot film contains hole could drive massive tr...          0\n",
       "302  docteur petiot starring michel serrault brutal...          1\n",
       "679  show exhausting watch there s two number drown...          1"
      ]
     },
     "execution_count": 14,
     "metadata": {},
     "output_type": "execute_result"
    }
   ],
   "source": [
    "df['sentiment']=df['sentiment'].map({'positive':1,'negative':0})\n",
    "df.head()"
   ]
  },
  {
   "cell_type": "code",
   "execution_count": 15,
   "id": "e5e4a337",
   "metadata": {},
   "outputs": [
    {
     "data": {
      "text/plain": [
       "review       0\n",
       "sentiment    0\n",
       "dtype: int64"
      ]
     },
     "execution_count": 15,
     "metadata": {},
     "output_type": "execute_result"
    }
   ],
   "source": [
    "df.isnull().sum()"
   ]
  },
  {
   "cell_type": "code",
   "execution_count": 16,
   "id": "cdc979f4",
   "metadata": {},
   "outputs": [],
   "source": [
    "vectorizer=CountVectorizer(max_features=100)\n",
    "X=vectorizer.fit_transform(df['review'])\n",
    "y=df['sentiment']"
   ]
  },
  {
   "cell_type": "code",
   "execution_count": 21,
   "id": "d5c42550",
   "metadata": {},
   "outputs": [],
   "source": [
    "X_train,X_test,y_train,y_test=train_test_split(X,y,train_size=0.20,random_state=40)"
   ]
  },
  {
   "cell_type": "code",
   "execution_count": 47,
   "id": "8513bef4",
   "metadata": {},
   "outputs": [
    {
     "name": "stderr",
     "output_type": "stream",
     "text": [
      "2025/05/26 01:06:00 INFO mlflow.tracking.fluent: Experiment with name 'LogisticRegression Baseline' does not exist. Creating a new experiment.\n"
     ]
    },
    {
     "data": {
      "text/plain": [
       "<Experiment: artifact_location='file:///C:/Users/ZAID/Desktop/MLops/Movie-Analysis-MLOPS/mlruns/208724811623814255', creation_time=1748201760181, experiment_id='208724811623814255', last_update_time=1748201760181, lifecycle_stage='active', name='LogisticRegression Baseline', tags={}>"
      ]
     },
     "execution_count": 47,
     "metadata": {},
     "output_type": "execute_result"
    }
   ],
   "source": [
    "\n",
    "mlflow.set_tracking_uri(\"file:///C:/Users/ZAID/Desktop/MLops/Movie-Analysis-MLOPS/mlruns\")\n",
    "mlflow.set_experiment(\"LogisticRegression Baseline\")"
   ]
  },
  {
   "cell_type": "code",
   "execution_count": 34,
   "id": "608c976c",
   "metadata": {},
   "outputs": [],
   "source": [
    "import mlflow\n",
    "import os\n",
    "import logging\n",
    "import time\n",
    "from sklearn.linear_model import LogisticRegression\n",
    "from sklearn.metrics import accuracy_score,recall_score,precision_score,f1_score"
   ]
  },
  {
   "cell_type": "code",
   "execution_count": 48,
   "id": "67440ac4",
   "metadata": {},
   "outputs": [
    {
     "name": "stderr",
     "output_type": "stream",
     "text": [
      "2025-05-26 01:06:04,605 - INFO - Starting mlflow run\n",
      "2025-05-26 01:06:04,699 - INFO - Logging preprocessing parameters ....\n",
      "2025-05-26 01:06:04,710 - INFO - Initalizing logistic model\n",
      "2025-05-26 01:06:04,712 - INFO - Fitting the model\n",
      "2025-05-26 01:06:04,734 - INFO - Model training completed\n",
      "2025-05-26 01:06:04,735 - INFO - Logging model parameters\n",
      "2025-05-26 01:06:04,741 - INFO - Calcualtion evaluation metrics\n",
      "2025-05-26 01:06:04,752 - INFO - Logging the model\n",
      "2025/05/26 01:06:11 WARNING mlflow.models.model: Model logged without a signature and input example. Please set `input_example` parameter when logging the model to auto infer the model signature.\n",
      "2025-05-26 01:06:11,468 - INFO - Accuracy : 0.59\n",
      "2025-05-26 01:06:11,469 - INFO - Precision : 0.5827814569536424\n",
      "2025-05-26 01:06:11,470 - INFO - Recall : 0.4656084656084656\n",
      "2025-05-26 01:06:11,471 - INFO - f1 score : 0.5176470588235295\n"
     ]
    }
   ],
   "source": [
    "import mlflow.sklearn\n",
    "\n",
    "\n",
    "logging.basicConfig(level=logging.INFO,format=\"%(asctime)s - %(levelname)s - %(message)s\")\n",
    "logging.info(\"Starting mlflow run\")\n",
    "\n",
    "\n",
    "with mlflow.start_run():\n",
    "    start_time=time.time()\n",
    "    try:\n",
    "        logging.info(\"Logging preprocessing parameters ....\")\n",
    "        mlflow.log_param(\"vectorizer\",\"Bag of words\")\n",
    "        mlflow.log_param(\"num_features\",100)\n",
    "        mlflow.log_param(\"test_size\",0.25)\n",
    "\n",
    "        logging.info(\"Initalizing logistic model\")\n",
    "        model=LogisticRegression(max_iter=100)\n",
    "\n",
    "        logging.info(\"Fitting the model\")\n",
    "        model.fit(X_train,y_train)\n",
    "        logging.info(\"Model training completed\")\n",
    "\n",
    "        logging.info(\"Logging model parameters\")\n",
    "        mlflow.log_param(\"model\",\"LogisticRegression\")\n",
    "        \n",
    "        y_pred=model.predict(X_test)\n",
    "\n",
    "        logging.info(\"Calcualtion evaluation metrics\")\n",
    "        accuracy=accuracy_score(y_test,y_pred)\n",
    "        precision=precision_score(y_test,y_pred)\n",
    "        recall=recall_score(y_test,y_pred)\n",
    "        f1=f1_score(y_test,y_pred)\n",
    "\n",
    "        logging.info(\"Logging the model\")\n",
    "        mlflow.sklearn.log_model(model,\"model\")\n",
    "\n",
    "        logging.info(f\"Accuracy : {accuracy}\")\n",
    "        logging.info(f\"Precision : {precision}\")\n",
    "        logging.info(f\"Recall : {recall}\")\n",
    "        logging.info(f\"f1 score : {f1}\")\n",
    "\n",
    "    except Exception as e:\n",
    "        logging.error(f\"An error occured while trainig model {e}\")\n",
    "\n"
   ]
  }
 ],
 "metadata": {
  "kernelspec": {
   "display_name": ".venv",
   "language": "python",
   "name": "python3"
  },
  "language_info": {
   "codemirror_mode": {
    "name": "ipython",
    "version": 3
   },
   "file_extension": ".py",
   "mimetype": "text/x-python",
   "name": "python",
   "nbconvert_exporter": "python",
   "pygments_lexer": "ipython3",
   "version": "3.13.3"
  }
 },
 "nbformat": 4,
 "nbformat_minor": 5
}
